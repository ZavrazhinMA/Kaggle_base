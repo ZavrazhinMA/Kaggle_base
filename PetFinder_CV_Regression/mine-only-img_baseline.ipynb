{
 "cells": [
  {
   "cell_type": "code",
   "execution_count": 1,
   "metadata": {
    "execution": {
     "iopub.execute_input": "2021-11-23T07:55:45.331537Z",
     "iopub.status.busy": "2021-11-23T07:55:45.331194Z",
     "iopub.status.idle": "2021-11-23T07:55:46.092538Z",
     "shell.execute_reply": "2021-11-23T07:55:46.091841Z",
     "shell.execute_reply.started": "2021-11-23T07:55:45.331453Z"
    }
   },
   "outputs": [],
   "source": [
    "import sys\n",
    "import numpy as np\n",
    "\n",
    "import pandas as pd\n",
    "import warnings\n",
    "import matplotlib.pyplot as plt\n",
    "import seaborn as sns\n",
    "warnings.filterwarnings('ignore')\n",
    "%matplotlib inline\n",
    "%config InlineBackend.figure_format = 'svg'\n",
    "plt.style.use('ggplot')\n",
    "plt.rcParams[\"font.family\"] = \"Times New Roman\""
   ]
  },
  {
   "cell_type": "code",
   "execution_count": 2,
   "metadata": {
    "execution": {
     "iopub.execute_input": "2021-11-23T07:55:46.094380Z",
     "iopub.status.busy": "2021-11-23T07:55:46.094148Z",
     "iopub.status.idle": "2021-11-23T07:55:53.671220Z",
     "shell.execute_reply": "2021-11-23T07:55:53.670320Z",
     "shell.execute_reply.started": "2021-11-23T07:55:46.094346Z"
    }
   },
   "outputs": [],
   "source": [
    "import torch\n",
    "import torchvision\n",
    "from torchvision import models\n",
    "from torch import nn\n",
    "import torch.nn.functional as F\n",
    "from torch import optim\n",
    "from tqdm import tqdm_notebook\n",
    "import torchvision.transforms as T\n",
    "from sklearn.model_selection import train_test_split\n",
    "import time\n",
    "import cv2\n",
    "from PIL import Image\n",
    "from sklearn.metrics import mean_squared_error as mse\n",
    "import timm\n",
    "import tez\n",
    "import os\n",
    "import glob"
   ]
  },
  {
   "cell_type": "code",
   "execution_count": 3,
   "metadata": {
    "execution": {
     "iopub.execute_input": "2021-11-23T07:55:53.674329Z",
     "iopub.status.busy": "2021-11-23T07:55:53.673905Z",
     "iopub.status.idle": "2021-11-23T07:55:53.719457Z",
     "shell.execute_reply": "2021-11-23T07:55:53.718804Z",
     "shell.execute_reply.started": "2021-11-23T07:55:53.674289Z"
    }
   },
   "outputs": [],
   "source": [
    "device = torch.device(\"cuda:0\" if torch.cuda.is_available() else \"cpu\")\n",
    "print(device)"
   ]
  },
  {
   "cell_type": "code",
   "execution_count": 5,
   "metadata": {
    "execution": {
     "iopub.execute_input": "2021-11-23T07:55:53.742682Z",
     "iopub.status.busy": "2021-11-23T07:55:53.742421Z",
     "iopub.status.idle": "2021-11-23T07:55:53.749575Z",
     "shell.execute_reply": "2021-11-23T07:55:53.748747Z",
     "shell.execute_reply.started": "2021-11-23T07:55:53.742650Z"
    }
   },
   "outputs": [],
   "source": [
    "PATH = '/kaggle/input/petfinder-pawpularity-score/'\n",
    "IMG_SIZE = 384\n",
    "BATCH_SIZE = 12\n",
    "model_name = 'swin_large_patch4_window12_384'"
   ]
  },
  {
   "cell_type": "code",
   "execution_count": 6,
   "metadata": {
    "execution": {
     "iopub.execute_input": "2021-11-23T07:55:53.751796Z",
     "iopub.status.busy": "2021-11-23T07:55:53.751173Z",
     "iopub.status.idle": "2021-11-23T07:55:53.826294Z",
     "shell.execute_reply": "2021-11-23T07:55:53.825647Z",
     "shell.execute_reply.started": "2021-11-23T07:55:53.751760Z"
    }
   },
   "outputs": [],
   "source": [
    "df_train = pd.read_csv('../input/train-data-10/10FOLDSTRAIN.csv')\n",
    "df_test = pd.read_csv(PATH + 'test.csv')\n",
    "df_train.head(2)"
   ]
  },
  {
   "cell_type": "code",
   "execution_count": 7,
   "metadata": {
    "execution": {
     "iopub.execute_input": "2021-11-23T07:55:53.827629Z",
     "iopub.status.busy": "2021-11-23T07:55:53.827363Z",
     "iopub.status.idle": "2021-11-23T07:55:53.834098Z",
     "shell.execute_reply": "2021-11-23T07:55:53.833399Z",
     "shell.execute_reply.started": "2021-11-23T07:55:53.827595Z"
    }
   },
   "outputs": [],
   "source": [
    "# *************************************************\n",
    "FOLD = 1\n",
    "# *************************************************"
   ]
  },
  {
   "cell_type": "code",
   "execution_count": 8,
   "metadata": {
    "execution": {
     "iopub.execute_input": "2021-11-23T07:55:53.835520Z",
     "iopub.status.busy": "2021-11-23T07:55:53.835146Z",
     "iopub.status.idle": "2021-11-23T07:55:53.847432Z",
     "shell.execute_reply": "2021-11-23T07:55:53.846555Z",
     "shell.execute_reply.started": "2021-11-23T07:55:53.835452Z"
    }
   },
   "outputs": [],
   "source": [
    "X_train = df_train.loc[df_train['kfold'] != FOLD]\n",
    "X_valid = df_train.loc[df_train['kfold'] == FOLD]\n",
    "print(len(X_train), len(X_valid))"
   ]
  },
  {
   "cell_type": "code",
   "execution_count": 9,
   "metadata": {
    "execution": {
     "iopub.execute_input": "2021-11-23T07:55:53.848903Z",
     "iopub.status.busy": "2021-11-23T07:55:53.848602Z",
     "iopub.status.idle": "2021-11-23T07:55:53.857437Z",
     "shell.execute_reply": "2021-11-23T07:55:53.856889Z",
     "shell.execute_reply.started": "2021-11-23T07:55:53.848868Z"
    }
   },
   "outputs": [],
   "source": [
    "augm_train = T.Compose([T.ToPILImage(),\n",
    "#                         T.RandomHorizontalFlip(p=0.2),\n",
    "                        T.Resize([IMG_SIZE, IMG_SIZE]),\n",
    "                        T.ToTensor(),\n",
    "                        T.Normalize(mean=[0.485, 0.456, 0.406], std=[0.229, 0.224, 0.225])\n",
    "                       ])\n",
    "\n",
    "augm_test = T.Compose([T.ToPILImage(),\n",
    "                       T.Resize([IMG_SIZE, IMG_SIZE]),\n",
    "                       T.ToTensor(),\n",
    "                       T.Normalize(mean=[0.485, 0.456, 0.406], std=[0.229, 0.224, 0.225])\n",
    "                      ])"
   ]
  },
  {
   "cell_type": "code",
   "execution_count": 10,
   "metadata": {
    "execution": {
     "iopub.execute_input": "2021-11-23T07:55:53.860505Z",
     "iopub.status.busy": "2021-11-23T07:55:53.860305Z",
     "iopub.status.idle": "2021-11-23T07:55:53.869755Z",
     "shell.execute_reply": "2021-11-23T07:55:53.869038Z",
     "shell.execute_reply.started": "2021-11-23T07:55:53.860475Z"
    }
   },
   "outputs": [],
   "source": [
    "class PawDataset(torch.utils.data.Dataset):\n",
    "    def __init__(self, df, image_path='train/', augm=False):\n",
    "        self.df = df.copy()\n",
    "        self.augm = augm\n",
    "        self.img_path = PATH + image_path\n",
    "\n",
    "\n",
    "    def __len__(self):\n",
    "        return len(self.df)\n",
    "\n",
    "    def __getitem__(self, idx):\n",
    "        image = cv2.imread(self.img_path + str(self.df.iloc[idx, 0]) + '.jpg')\n",
    "        image = cv2.cvtColor(image, cv2.COLOR_BGR2RGB)\n",
    "        image = self.augm(image)\n",
    "\n",
    "        target = self.df.iloc[idx, -1:]\n",
    "        features = torch.FloatTensor(self.df.iloc[idx, 1:-1].values.astype('float32'))\n",
    "        target = torch.FloatTensor(target.values.astype('float32'))\n",
    "    \n",
    "\n",
    "        return image, features, target/100"
   ]
  },
  {
   "cell_type": "code",
   "execution_count": 11,
   "metadata": {
    "execution": {
     "iopub.execute_input": "2021-11-23T07:55:53.871236Z",
     "iopub.status.busy": "2021-11-23T07:55:53.870941Z",
     "iopub.status.idle": "2021-11-23T07:55:53.880653Z",
     "shell.execute_reply": "2021-11-23T07:55:53.879991Z",
     "shell.execute_reply.started": "2021-11-23T07:55:53.871202Z"
    }
   },
   "outputs": [],
   "source": [
    "train_data = PawDataset(X_train.drop(columns='kfold'), augm=augm_train)\n",
    "valid_data = PawDataset(X_valid.drop(columns='kfold'), augm=augm_test)\n",
    "test_data = PawDataset(df_test, image_path='test/', augm=augm_test)"
   ]
  },
  {
   "cell_type": "code",
   "execution_count": 12,
   "metadata": {
    "execution": {
     "iopub.execute_input": "2021-11-23T07:55:53.882317Z",
     "iopub.status.busy": "2021-11-23T07:55:53.882064Z",
     "iopub.status.idle": "2021-11-23T07:55:53.888593Z",
     "shell.execute_reply": "2021-11-23T07:55:53.887761Z",
     "shell.execute_reply.started": "2021-11-23T07:55:53.882286Z"
    }
   },
   "outputs": [],
   "source": [
    "train_loader = torch.utils.data.DataLoader(train_data, batch_size=BATCH_SIZE, shuffle=True, drop_last=True, num_workers=8)\n",
    "valid_loader = torch.utils.data.DataLoader(valid_data, batch_size=BATCH_SIZE*2, shuffle=False, num_workers=8)\n",
    "test_loader = torch.utils.data.DataLoader(test_data, batch_size=BATCH_SIZE*2, shuffle=False, num_workers=8)"
   ]
  },
  {
   "cell_type": "code",
   "execution_count": 13,
   "metadata": {
    "execution": {
     "iopub.execute_input": "2021-11-23T07:55:53.890358Z",
     "iopub.status.busy": "2021-11-23T07:55:53.890085Z",
     "iopub.status.idle": "2021-11-23T07:56:15.728979Z",
     "shell.execute_reply": "2021-11-23T07:56:15.728133Z",
     "shell.execute_reply.started": "2021-11-23T07:55:53.890307Z"
    }
   },
   "outputs": [],
   "source": [
    "model_ = timm.create_model(model_name, pretrained=True, in_chans=3)"
   ]
  },
  {
   "cell_type": "code",
   "execution_count": 14,
   "metadata": {
    "execution": {
     "iopub.execute_input": "2021-11-23T07:56:15.730472Z",
     "iopub.status.busy": "2021-11-23T07:56:15.730232Z",
     "iopub.status.idle": "2021-11-23T07:56:15.734534Z",
     "shell.execute_reply": "2021-11-23T07:56:15.733868Z",
     "shell.execute_reply.started": "2021-11-23T07:56:15.730440Z"
    }
   },
   "outputs": [],
   "source": [
    "# model_ = torch.nn.Sequential(*(list(model.children())[:-1]))"
   ]
  },
  {
   "cell_type": "code",
   "execution_count": 15,
   "metadata": {
    "execution": {
     "iopub.execute_input": "2021-11-23T07:56:15.736139Z",
     "iopub.status.busy": "2021-11-23T07:56:15.735752Z",
     "iopub.status.idle": "2021-11-23T07:56:15.753171Z",
     "shell.execute_reply": "2021-11-23T07:56:15.752281Z",
     "shell.execute_reply.started": "2021-11-23T07:56:15.736103Z"
    }
   },
   "outputs": [],
   "source": [
    "for param in model_.parameters():\n",
    "    param.requires_grad = False\n",
    "model_.head = nn.Linear(1536, 128)\n",
    "model_.head.requires_grad = True"
   ]
  },
  {
   "cell_type": "code",
   "execution_count": 16,
   "metadata": {
    "execution": {
     "iopub.execute_input": "2021-11-23T07:56:15.754686Z",
     "iopub.status.busy": "2021-11-23T07:56:15.754385Z",
     "iopub.status.idle": "2021-11-23T07:56:20.343282Z",
     "shell.execute_reply": "2021-11-23T07:56:20.342610Z",
     "shell.execute_reply.started": "2021-11-23T07:56:15.754652Z"
    }
   },
   "outputs": [],
   "source": [
    "class MyNet(tez.Model):\n",
    "    def __init__(self, base_model):\n",
    "        super().__init__()\n",
    "        self.model = base_model\n",
    "        self.dropout1 = nn.Dropout(0.5)\n",
    "        self.dropout2 = nn.Dropout(0.1)\n",
    "        self.dense1 = nn.Linear(128, 1)\n",
    "\n",
    "\n",
    "    def forward(self, image, features, targets=None):\n",
    "        x = self.model(image)\n",
    "        x = self.dropout2(x)\n",
    "        x = F.relu(x)\n",
    "        x = self.dense1(x)\n",
    "        return x\n",
    "\n",
    "net = MyNet(base_model=model_)\n",
    "net.to(device)"
   ]
  },
  {
   "cell_type": "code",
   "execution_count": 17,
   "metadata": {
    "execution": {
     "iopub.execute_input": "2021-11-23T07:56:20.344749Z",
     "iopub.status.busy": "2021-11-23T07:56:20.344322Z",
     "iopub.status.idle": "2021-11-23T07:56:20.348627Z",
     "shell.execute_reply": "2021-11-23T07:56:20.347971Z",
     "shell.execute_reply.started": "2021-11-23T07:56:20.344692Z"
    }
   },
   "outputs": [],
   "source": [
    "# net2 = torch.load('../input/lastmod/only_img_model1836.pht')\n",
    "# print(net2)"
   ]
  },
  {
   "cell_type": "code",
   "execution_count": 18,
   "metadata": {
    "execution": {
     "iopub.execute_input": "2021-11-23T07:56:20.350773Z",
     "iopub.status.busy": "2021-11-23T07:56:20.350310Z",
     "iopub.status.idle": "2021-11-23T07:56:20.362882Z",
     "shell.execute_reply": "2021-11-23T07:56:20.362194Z",
     "shell.execute_reply.started": "2021-11-23T07:56:20.350739Z"
    }
   },
   "outputs": [],
   "source": [
    "LR = 0.0005\n",
    "EPOCHES = 3\n",
    "criterion  = nn.BCEWithLogitsLoss()\n",
    "opt = optim.Adam(net.parameters(), lr=LR)\n",
    "scheduler = optim.lr_scheduler.MultiStepLR(opt, milestones=[1,2,3], gamma=0.5)"
   ]
  },
  {
   "cell_type": "code",
   "execution_count": 19,
   "metadata": {
    "execution": {
     "iopub.execute_input": "2021-11-23T07:56:20.364785Z",
     "iopub.status.busy": "2021-11-23T07:56:20.364133Z",
     "iopub.status.idle": "2021-11-23T07:56:20.371926Z",
     "shell.execute_reply": "2021-11-23T07:56:20.371288Z",
     "shell.execute_reply.started": "2021-11-23T07:56:20.364748Z"
    }
   },
   "outputs": [],
   "source": [
    "def sigmoid(x):\n",
    "    return 1 / (1 + np.exp(-x))\n",
    "\n",
    "def rmse_func(y_pred, y_true):\n",
    "    y_ = 100 * y_true\n",
    "    pred_ =  sigmoid(y_pred)*100\n",
    "    return np.sqrt(mse(y_, pred_))"
   ]
  },
  {
   "cell_type": "code",
   "execution_count": 20,
   "metadata": {
    "execution": {
     "iopub.execute_input": "2021-11-23T07:56:20.373901Z",
     "iopub.status.busy": "2021-11-23T07:56:20.373301Z",
     "iopub.status.idle": "2021-11-23T07:56:20.381344Z",
     "shell.execute_reply": "2021-11-23T07:56:20.380709Z",
     "shell.execute_reply.started": "2021-11-23T07:56:20.373833Z"
    }
   },
   "outputs": [],
   "source": [
    "def save_model(model, mod_path, prefix, metric, verbose=True):\n",
    "    path_1 = mod_path + prefix   \n",
    "    for f in glob.glob(path_1+\"*\"):\n",
    "        os.remove(f)\n",
    "    full_path = path_1 + str(round(metric*100)) +'.pht'\n",
    "    torch.save(model, full_path)\n",
    "    if verbose:\n",
    "        print(f'Model saved with metric: {round(metric,2)}')"
   ]
  },
  {
   "cell_type": "code",
   "execution_count": 21,
   "metadata": {
    "execution": {
     "iopub.execute_input": "2021-11-23T07:56:20.383056Z",
     "iopub.status.busy": "2021-11-23T07:56:20.382769Z",
     "iopub.status.idle": "2021-11-23T07:56:20.391315Z",
     "shell.execute_reply": "2021-11-23T07:56:20.390485Z",
     "shell.execute_reply.started": "2021-11-23T07:56:20.383025Z"
    }
   },
   "outputs": [],
   "source": [
    "def model_eval(model, opt, loss_func, dataset_loader):\n",
    "\n",
    "    num_batches = len(dataset_loader)\n",
    "    test_loss = 0\n",
    "    rmse = 0\n",
    "    full_y = np.array([])\n",
    "    full_pred = np.array([])\n",
    "    with torch.no_grad():\n",
    "        model.eval()\n",
    "        for X, features, y in dataset_loader:\n",
    "            pred = model(X.to(device), features.to(device))\n",
    "            test_loss += criterion(pred, y.to(device)).item()\n",
    "            full_y = np.append(full_y, y.cpu().numpy())\n",
    "            full_pred = np.append(full_pred, pred.cpu().numpy())\n",
    "\n",
    "\n",
    "        test_loss = round(test_loss / num_batches, 4)\n",
    "        rmse = rmse_func(full_pred, full_y)\n",
    "        model.train()\n",
    "        \n",
    "\n",
    "    return test_loss, rmse"
   ]
  },
  {
   "cell_type": "code",
   "execution_count": 22,
   "metadata": {
    "execution": {
     "iopub.execute_input": "2021-11-23T07:56:20.393251Z",
     "iopub.status.busy": "2021-11-23T07:56:20.392416Z",
     "iopub.status.idle": "2021-11-23T07:56:20.405268Z",
     "shell.execute_reply": "2021-11-23T07:56:20.404598Z",
     "shell.execute_reply.started": "2021-11-23T07:56:20.393215Z"
    }
   },
   "outputs": [],
   "source": [
    "def train_step(epoch, train_start_time, model, opt, loss_func, train_loader, step, best_metric):\n",
    "\n",
    "    time_start = time.time()\n",
    "    running_loss = 0\n",
    "    num_batches_train = len(train_loader)\n",
    "\n",
    "    for num, data in enumerate(train_loader):\n",
    "        images, features, labels = data[0].to(device), data[1].to(device), data[2].to(device)\n",
    "\n",
    "        opt.zero_grad()  # обнуляем градиент\n",
    "        outputs = model(images, features)  # получаем предсказания\n",
    "        loss = loss_func(outputs, labels)  # считаем потери\n",
    "        loss.backward()  # ОРО\n",
    "        opt.step()  # обновление весов\n",
    "\n",
    "        running_loss += loss.item()\n",
    "\n",
    "        if (num+1) % step == 0:\n",
    "            test_loss, rmse = model_eval(model, opt, loss_func, valid_loader)\n",
    "#             save_model(net, mod_path='./' , prefix='only_img_model', metric=rmse)\n",
    "            print(\n",
    "            f'IT № {num+1}/{num_batches_train}, tr_loss= {round(running_loss/(num+1), 4)}, eval_loss= {test_loss},',\n",
    "            f'rmse = {round(rmse,3)}'\n",
    "        )\n",
    "            if rmse < best_metric:\n",
    "                best_metric = rmse\n",
    "                save_model(model, mod_path='./', prefix=f'only_img_model_{FOLD}_', metric=best_metric)\n",
    "\n",
    "    test_loss, rmse = model_eval(model, opt, loss_func, valid_loader)\n",
    "    train_loss = round(running_loss / num_batches_train, 4)\n",
    "\n",
    "    if (epoch+1) % 1 == 0:\n",
    "        time_taken = round(time.time() - time_start, 1)\n",
    "        from_start = round(time.time() - train_start_time, 1)\n",
    "        print(\n",
    "            f'Epoch № {epoch+1}, tr_loss= {train_loss}, eval_loss= {test_loss},',\n",
    "            f'rmse = {rmse}',\n",
    "            f'\\ntime_per_epoch = {time_taken} sec, total ---> {from_start} sec'\n",
    "        )\n",
    "    return rmse, best_metric"
   ]
  },
  {
   "cell_type": "code",
   "execution_count": 23,
   "metadata": {
    "execution": {
     "iopub.execute_input": "2021-11-23T07:56:20.408319Z",
     "iopub.status.busy": "2021-11-23T07:56:20.407338Z",
     "iopub.status.idle": "2021-11-23T09:29:45.466392Z",
     "shell.execute_reply": "2021-11-23T09:29:45.465591Z",
     "shell.execute_reply.started": "2021-11-23T07:56:20.408291Z"
    }
   },
   "outputs": [],
   "source": [
    "train_start = time.time()\n",
    "rmse_history = []\n",
    "best_metric = 1000\n",
    "step = 200\n",
    "for epoch in tqdm_notebook(range(EPOCHES)):\n",
    "    print('*'*40, f'EPOCH № {epoch+1}', '*'*40)\n",
    "    rmse, best_metric = train_step(epoch,\n",
    "                      train_start,\n",
    "                      net,\n",
    "                      opt,\n",
    "                      criterion,\n",
    "                      train_loader,\n",
    "                      step,\n",
    "                      best_metric\n",
    "                     )\n",
    "\n",
    "        \n",
    "    if best_metric < 19:\n",
    "        step = 40\n",
    "        if best_metric < 18.4:\n",
    "            step = 20\n",
    "            if (best_metric < 18.1) or (epoch >= 1):\n",
    "                step = 15\n",
    "            \n",
    "        \n",
    "        \n",
    "    rmse_history.append(rmse)\n",
    "    scheduler.step()\n",
    "print('*'*100)\n",
    "print(f'Training is finished! Best score: {min(rmse_history)} Time taken, sec:',\n",
    "      time.time()-train_start)"
   ]
  }
 ],
 "metadata": {
  "kernelspec": {
   "display_name": "Python 3",
   "language": "python",
   "name": "python3"
  },
  "language_info": {
   "codemirror_mode": {
    "name": "ipython",
    "version": 3
   },
   "file_extension": ".py",
   "mimetype": "text/x-python",
   "name": "python",
   "nbconvert_exporter": "python",
   "pygments_lexer": "ipython3",
   "version": "3.8.8"
  }
 },
 "nbformat": 4,
 "nbformat_minor": 4
}
